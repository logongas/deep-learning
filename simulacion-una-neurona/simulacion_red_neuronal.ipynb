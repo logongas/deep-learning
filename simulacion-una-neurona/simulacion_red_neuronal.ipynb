{
 "metadata": {
  "language_info": {
   "codemirror_mode": {
    "name": "ipython",
    "version": 3
   },
   "file_extension": ".py",
   "mimetype": "text/x-python",
   "name": "python",
   "nbconvert_exporter": "python",
   "pygments_lexer": "ipython3",
   "version": "3.8.5"
  },
  "orig_nbformat": 2,
  "kernelspec": {
   "name": "python385jvsc74a57bd01da3707d41a5a5d24033f12cee81ccdd1bbd417094b05338ef793051e1530b43",
   "display_name": "Python 3.8.5 64-bit ('base': conda)"
  }
 },
 "nbformat": 4,
 "nbformat_minor": 2,
 "cells": [
  {
   "cell_type": "code",
   "execution_count": 1,
   "metadata": {},
   "outputs": [],
   "source": [
    "import math\n",
    "import numpy as np\n",
    "import matplotlib as mpl\n",
    "mpl.use('TkAgg')\n",
    "import matplotlib.pyplot as plt\n",
    "plt.interactive(True)"
   ]
  },
  {
   "cell_type": "code",
   "execution_count": 2,
   "metadata": {},
   "outputs": [],
   "source": [
    "def load_data(w,b):\n",
    "    num_datos=100\n",
    "    \n",
    "    error=np.random.normal(0,0.1,num_datos)\n",
    "    x=np.random.uniform(-1,1,num_datos)\n",
    "    y=(w*x+b)+error\n",
    "    \n",
    "    datos=np.column_stack((x,y))\n",
    "    \n",
    "    return datos"
   ]
  },
  {
   "cell_type": "code",
   "execution_count": 3,
   "metadata": {},
   "outputs": [],
   "source": [
    "def plot_ecuation(axis,w,b,color):   \n",
    "    x = np.linspace(-1,1, 1000)\n",
    "    y=w*x+b\n",
    "    \n",
    "    axis.plot(x,y,color=color) "
   ]
  },
  {
   "cell_type": "code",
   "execution_count": 4,
   "metadata": {},
   "outputs": [],
   "source": [
    "def plot_funcion_coste(axis,w,b,x,y):   \n",
    "    range = np.linspace(-2,2, 100)\n",
    "    coste_en_funcion_w=np.sqrt(((range*x+b-y)**2)/2)\n",
    "    coste_en_funcion_b=np.sqrt(((w*x+range-y)**2)/2)\n",
    "\n",
    "    coste=math.sqrt(((w*x+b-y)**2)/2)\n",
    "    \n",
    "    axis.plot(range,coste_en_funcion_w,color=\"gray\") \n",
    "    axis.plot(range,coste_en_funcion_b,color=\"black\")\n",
    "    axis.scatter(w,coste,20,color=\"gray\")\n",
    "    axis.scatter(b,coste,20,color=\"black\")"
   ]
  },
  {
   "cell_type": "code",
   "execution_count": 5,
   "metadata": {},
   "outputs": [],
   "source": [
    "def fit(w,b,x,y,learning_rate,historial_coste):\n",
    "    \n",
    "    #Calculo de la neurora\n",
    "    y_calculado=x*w+b\n",
    "    \n",
    "    #error\n",
    "    coste=((y_calculado-y)**2)/2\n",
    "    historial_coste=np.append(historial_coste,[[len(historial_coste),math.sqrt(coste)]], axis=0)\n",
    "    \n",
    "    #gradiente=valor derivada coste respecto w \n",
    "    gradiente_w=x*x*w+x*b-y*x\n",
    "    #gradiente=valor derivada coste respecto b\n",
    "    gradiente_b=b+x*w-y\n",
    "    \n",
    "    new_w=w-learning_rate*gradiente_w\n",
    "    new_b=b-learning_rate*gradiente_b\n",
    "    \n",
    "    return new_w,new_b,historial_coste"
   ]
  },
  {
   "cell_type": "code",
   "execution_count": 6,
   "metadata": {},
   "outputs": [
    {
     "output_type": "execute_result",
     "data": {
      "text/plain": [
       "<matplotlib.collections.PathCollection at 0x7f68f5f0ed30>"
      ]
     },
     "metadata": {},
     "execution_count": 6
    }
   ],
   "source": [
    "w_real=0.65\n",
    "b_real=0.3\n",
    "datos=load_data(w_real,b_real)\n",
    "plt.scatter(datos[:,0],datos[:,1],2,color=\"orange\")    "
   ]
  },
  {
   "cell_type": "code",
   "execution_count": 7,
   "metadata": {},
   "outputs": [
    {
     "output_type": "stream",
     "name": "stdout",
     "text": [
      "Real w= 0.65  b= 0.3\nCalculado w= 0.6187397504130525  b= 0.3263979962080797\nError= [0.01794755]\n"
     ]
    }
   ],
   "source": [
    "#Inicializar los valores de la red\n",
    "w=-0.6\n",
    "b=-1.5\n",
    "epocas=4\n",
    "historial_coste=np.empty(shape=[0, 2])\n",
    "\n",
    "\n",
    "figure=plt.figure(figsize=(15, 15))\n",
    "axis = figure.add_subplot(221)\n",
    "axis_coste = figure.add_subplot(222)\n",
    "axis_coste.set_xlim(xmax=len(datos)*epocas)\n",
    "axis_coste.set_ylim(ymax=2)\n",
    "axis_funcion_coste = figure.add_subplot(223)\n",
    "axis_funcion_coste.set_xlim(xmax=2,xmin=-2)\n",
    "axis_funcion_coste.set_ylim(ymax=2,ymin=-2)\n",
    "\n",
    "axis.set_title(\"Datos y su ajuste\")\n",
    "axis_coste.set_title(\"Valor del coste en cada iteración\")\n",
    "axis_funcion_coste.set_title(\"Funciones de coste de W y b a optimizar\")\n",
    "\n",
    "for epoca in range(epocas):\n",
    "    for x,y in datos:\n",
    "\n",
    "        axis_funcion_coste.cla()\n",
    "        plot_funcion_coste(axis_funcion_coste,w,b,x,y)\n",
    "        axis_funcion_coste.set_xlim(xmin=-2,xmax=2)\n",
    "        axis_funcion_coste.set_ylim(ymin=-0.1,ymax=2.5)\n",
    "\n",
    "        w,b,historial_coste=fit(w,b,x,y,0.05,historial_coste)\n",
    "\n",
    "        \n",
    "        axis.cla()\n",
    "\n",
    "        axis.scatter(datos[:,0],datos[:,1],2,color=\"orange\")       \n",
    "        plot_ecuation(axis,w,b,\"#FF0000\")\n",
    "        plot_ecuation(axis,w_real,b_real,\"#00FF00\")\n",
    "        axis.set_xlim(xmin=0)\n",
    "        axis.set_ylim(ymin=-2,ymax=2)\n",
    "        \n",
    "        axis_coste.plot(historial_coste[-1:,0],historial_coste[-1:,1],\"o-\",markersize=2,color=\"#003B80\")\n",
    "\n",
    "        axis.set_title(\"Datos y su ajuste\")\n",
    "        axis_coste.set_title(\"Valor del coste en cada iteración\")\n",
    "        axis_funcion_coste.set_title(\"Funciones de coste de 'W' y 'b' para optimizar\")\n",
    "        axis_funcion_coste.set_xlabel('Posibles valores de W y b', fontsize=15,labelpad=20,color=\"#003B80\")  \n",
    "        axis_funcion_coste.set_ylabel('Coste', fontsize=15,labelpad=20,color=\"#003B80\")\n",
    "\n",
    "        figure.canvas.draw()\n",
    "\n",
    "print(\"Real w=\",w_real,\" b=\",b_real)\n",
    "print(\"Calculado w=\",w,\" b=\",b)\n",
    "print(\"Error=\",historial_coste[-1:,1])"
   ]
  },
  {
   "cell_type": "code",
   "execution_count": null,
   "metadata": {},
   "outputs": [],
   "source": []
  }
 ]
}