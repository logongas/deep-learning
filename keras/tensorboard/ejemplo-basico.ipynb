{
 "metadata": {
  "language_info": {
   "codemirror_mode": {
    "name": "ipython",
    "version": 3
   },
   "file_extension": ".py",
   "mimetype": "text/x-python",
   "name": "python",
   "nbconvert_exporter": "python",
   "pygments_lexer": "ipython3",
   "version": "3.7.10"
  },
  "orig_nbformat": 2,
  "kernelspec": {
   "name": "python3710jvsc74a57bd0fb6e97306c5b1ebecea5bbb09077b1f8ef37909e819bc001e6929094a1fb2618",
   "display_name": "Python 3.7.10 64-bit ('myenv': conda)"
  }
 },
 "nbformat": 4,
 "nbformat_minor": 2,
 "cells": [
  {
   "source": [
    "# Ejemplo de TensorBoard"
   ],
   "cell_type": "markdown",
   "metadata": {}
  },
  {
   "cell_type": "code",
   "execution_count": 2,
   "metadata": {},
   "outputs": [],
   "source": [
    "from datetime import datetime\n",
    "import numpy as np \n",
    "import pandas as pd \n",
    "import matplotlib.pyplot as plt \n",
    "import seaborn as sns\n",
    "import tensorflow as tf\n",
    "import tensorflow.keras as keras\n",
    "import sklearn\n",
    "from sklearn.model_selection import train_test_split\n",
    "from sklearn.datasets import load_iris\n",
    "from sklearn.preprocessing import StandardScaler\n",
    "from sklearn.preprocessing import MinMaxScaler\n"
   ]
  },
  {
   "cell_type": "code",
   "execution_count": 3,
   "metadata": {},
   "outputs": [],
   "source": [
    "iris=load_iris()\n",
    "\n",
    "x=iris.data\n",
    "x=StandardScaler().fit_transform(x)\n",
    "\n",
    "num_classes=len(np.unique(iris.target))\n",
    "y=iris.target\n",
    "\n",
    "y=keras.utils.to_categorical(y,num_classes=num_classes)\n",
    "\n",
    "x_train, x_test, y_train, y_test = train_test_split(x, y, test_size=0.2)"
   ]
  },
  {
   "cell_type": "code",
   "execution_count": 7,
   "metadata": {
    "tags": []
   },
   "outputs": [],
   "source": [
    "log_dir = \"logs/fit/\" + datetime.now().strftime(\"%Y%m%d-%H%M%S\")\n",
    "tensorboard_callback = tf.keras.callbacks.TensorBoard(log_dir=log_dir, histogram_freq=1)\n",
    "\n",
    "model=keras.models.Sequential()\n",
    "model.add(keras.layers.Dense(8,activation=\"relu\",input_shape=(x.shape[1],),name=\"01_input_layer\"))\n",
    "model.add(keras.layers.Dense(4,activation=\"relu\",input_shape=(8,),name=\"02_hidden_layer\"))\n",
    "model.add(keras.layers.Dense(num_classes,activation=\"softmax\",name=\"03_output_layer\"))\n",
    "model.compile(optimizer=keras.optimizers.Adam(learning_rate=0.03),loss='categorical_crossentropy',metrics=['accuracy'])\n",
    "history=model.fit(x=x_train,y=y_train,epochs=20, validation_data=(x_test,y_test),verbose=0,callbacks=[tensorboard_callback])"
   ]
  },
  {
   "source": [
    "Ejecutar la orden:\n",
    "\n",
    "`tensorboard --logdir logs/fit --host=127.0.0.1 --port=6006`\n",
    "\n",
    "Navegar a : \n",
    "\n",
    "http://127.0.0.1:6006"
   ],
   "cell_type": "markdown",
   "metadata": {}
  }
 ]
}